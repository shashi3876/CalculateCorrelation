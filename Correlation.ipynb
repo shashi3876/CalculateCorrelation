{
  "nbformat": 4,
  "nbformat_minor": 0,
  "metadata": {
    "colab": {
      "provenance": [],
      "authorship_tag": "ABX9TyM858ZGdF33nIBeqPHWYAnq",
      "include_colab_link": true
    },
    "kernelspec": {
      "name": "python3",
      "display_name": "Python 3"
    },
    "language_info": {
      "name": "python"
    }
  },
  "cells": [
    {
      "cell_type": "markdown",
      "metadata": {
        "id": "view-in-github",
        "colab_type": "text"
      },
      "source": [
        "<a href=\"https://colab.research.google.com/github/shashi3876/CalculateCorrelation/blob/main/Correlation.ipynb\" target=\"_parent\"><img src=\"https://colab.research.google.com/assets/colab-badge.svg\" alt=\"Open In Colab\"/></a>"
      ]
    },
    {
      "cell_type": "markdown",
      "source": [
        "#Introduction\n",
        "\n",
        "\n",
        "In this notebook we will look in to the correlation among time series.\n",
        "Correlation refers to a statistical relationship between two variables. In other words, it measures how two variables are related to each other.\n",
        "\n",
        "Correlation can be positive, negative, or zero. Positive correlation means that as one variable increases, the other variable also tends to increase. Negative correlation means that as one variable increases, the other variable tends to decrease. Zero correlation means that there is no relationship between the variables.\n",
        "\n",
        "\n",
        "Correlation can be useful in identifying patterns and making predictions in a variety of fields, such as finance, marketing, and social science. However, it is important to remember that correlation does not imply causation, meaning that just because two variables are correlated does not mean that one causes the other.\n",
        "\n",
        "The strength of the correlation between two variables is measured by the correlation coefficient, which ranges from -1 to +1. A correlation coefficient of +1 indicates a perfect positive correlation, a correlation coefficient of -1 indicates a perfect negative correlation, and a correlation coefficient of 0 indicates no correlation. Although there are several correlation coefficients, all adhere to the above standards. In this analysis, we use the [Pearson correlation coefficient](https://en.wikipedia.org/wiki/Pearson_correlation_coefficient), which is widely used.\n",
        "\n",
        "# Pearson Correlation Coefficient\n",
        "\n",
        " The equation of the Pearson correlation between two time series variables $x$ and $y is given as belows.\n",
        "\n",
        "$\\Large r = \\frac{\\sum\\limits_{i=1}^{n} (x_i - \\bar{x})(y_i - \\bar{y})}{\\sqrt{\\sum\\limits_{i=1}^{n} (x_i - \\bar{x})^2}\\sqrt{\\sum\\limits_{i=1}^{n} (y_i - \\bar{y})^2}},$\n",
        "\n",
        "where $\\bar{x}$ and $\\bar{y}$ are the mean values of $x$ and $y$. The above equation can be rewritten using the standard deviations of $x$ and $y$ which is given as $s_x$ and $s_y$.\n",
        "\n",
        "$\\Large r =\\frac{\\sum\\limits_{i=1}^{n} (x_i - \\bar{x})(y_i - \\bar{y})}{(n-1)s_x s_y}$.\n",
        "\n",
        "Here, $s_x$ (and similarly $s_y$) is defined as below.\n",
        "\n",
        "$\\Large s_x = \\sqrt{\\frac{1}{n-1} \\sum\\limits_{i=1}^{n} (x_i - \\bar{x})^2}.$\n",
        "\n",
        "#Data Collection\n",
        "\n",
        "We will use real stock prices for several companies to analyze the correlation among them. Here, we will use the free API provided by Alpha Vantage to gather data. It provides both free APIs and premium APIs. You can obtain your own API Key from Alpha Vantage by providing your name and email. We will limit ourselves to the TIME SERIES DAILY ADJUSTED API which provide daily updates on the stock prices for the requested symbol. Here we use outputsize=full to obtain stock prices for the last 20 years. But we will limit our analysis to the prices during the last year. Outputsize=compact (the default value) will provide the stock prices for only the last 100 days and you can choose this option if you want a lesser number of data points. \n",
        "\n"
      ],
      "metadata": {
        "id": "CQ6NihjhDTsg"
      }
    },
    {
      "cell_type": "code",
      "source": [
        "import pandas as pd\n",
        "import requests\n",
        "\n",
        "companies={'Apple':'AAPL','Amazon':'AMZN','Facebook':'META','Tesla':'TSLA','Alphabet (Google)':'GOOGL','Shell':'SHEL','Suncor Energy':'SU',\n",
        "           'Exxon Mobil Corp':'XOM','Lululemon':'LULU','Walmart':'WMT','Carters':'CRI','Childrens Place':'PLCE','TJX Companies':'TJX',\n",
        "           'Victorias Secret':'VSCO','MACYs':'M','Wayfair':'W','Dollar Tree':'DLTR','CVS Caremark':'CVS','Walgreen':'WBA','Curaleaf':'CURLF'}\n"
      ],
      "metadata": {
        "id": "qh7fkWugmoB9"
      },
      "execution_count": 44,
      "outputs": []
    },
    {
      "cell_type": "markdown",
      "source": [
        "I selected 20 companies from Tech, Retail, Oil and Gas, and other industries . Below is a list of the companies and a brief description along with the stock tracker symbol:\n",
        "## List of stock trackers\n",
        "\n",
        "1. Apple (AAPL): A technology company that designs and sells consumer electronics, computer software, and online services.\n",
        "2. Amazon (AMZN): An online retailer that sells a variety of products and services, including books, electronics, and streaming video.\n",
        "3. Facebook (META): A social networking company that connects people with friends and family, and allows businesses to connect with customers.\n",
        "4. Tesla (TSLA): An electric vehicle and renewable energy company that designs and manufactures high-performance electric cars, solar panels, and energy storage systems.\n",
        "5. Alphabet (Google) (GOOGL): A technology company that provides internet-related services, including search engines, advertising, and cloud computing.\n",
        "6. Shell (SHEL): An oil and gas company that explores, produces, and refines oil and natural gas.\n",
        "7. Suncor Energy (SU): A Canadian integrated energy company that produces and refines oil and natural gas.\n",
        "8. Exxon Mobil Corp (XOM): An oil and gas company that explores, produces, and sells crude oil, natural gas, and petroleum products.\n",
        "9. Lululemon (LULU): A clothing company that designs and sells athletic apparel and accessories.\n",
        "10. Walmart (WMT): A multinational retail corporation that operates a chain of discount department stores and grocery stores.\n",
        "11. Carters (CRI): A clothing company that designs and sells clothing and accessories for babies and young children.\n",
        "12. Childrens Place (PLCE): A clothing company that designs and sells clothing and accessories for children.\n",
        "13. TJX Companies (TJX): A multinational off-price department store corporation that operates stores such as T.J. Maxx, Marshalls, and HomeGoods.\n",
        "14. Victoria's Secret & Co (VSCO): A clothing and lingerie company that designs and sells women's clothing, lingerie, and beauty products.\n",
        "15. Macy's (M): A department store company that sells clothing, accessories, and home goods.\n",
        "16. Wayfair (W): An online retailer that sells furniture and home goods.\n",
        "17. Dollar Tree (DLTR): A discount variety store that sells items for $1 or less.\n",
        "18. CVS Caremark (CVS): A healthcare company that provides pharmacy and healthcare services, including prescription drugs, over-the-counter drugs, and healthcare clinics.\n",
        "19. Walgreen (WBA): A pharmacy retail chain that sells prescription drugs, over-the-counter drugs, and health and wellness products.\n",
        "20. Curaleaf Holdings Inc. (CURLF) is a cannabis and wellness company that operates in the United States and other international markets. \n"
      ],
      "metadata": {
        "id": "QZe7keb66xlh"
      }
    },
    {
      "cell_type": "code",
      "source": [
        "import time\n",
        "\n",
        "all_data={}\n",
        "for key,value in companies.items():  \n",
        "# Replace YOUR_API_KEY with your Alpha Vantage API key\n",
        "  url = f'https://www.alphavantage.co/query?function=TIME_SERIES_DAILY_ADJUSTED&symbol={value}&apikey=<>&outputsize=full'\n",
        "  response = requests.get(url)\n",
        "  data = response.json()\n",
        "  time.sleep(15)\n",
        "  if 'Time Series (Daily)' in data and data['Time Series (Daily)']:\n",
        "    df = pd.DataFrame.from_dict(data['Time Series (Daily)'], orient='index')\n",
        "    print(f'Received data for {key)}')\n",
        "  else:\n",
        "    print(\"Time series data is empty or not available.\")\n",
        "  df.rename(columns = {'1. open':key}, inplace = True)\n",
        "  all_data[key]=df[key]\n",
        "  \n",
        "  "
      ],
      "metadata": {
        "colab": {
          "base_uri": "https://localhost:8080/"
        },
        "id": "6gVuOM_VnLh0",
        "outputId": "d299309a-e641-41cc-c25e-69d92b3b338d"
      },
      "execution_count": 46,
      "outputs": [
        {
          "output_type": "stream",
          "name": "stdout",
          "text": [
            "Received data for Apple\n",
            "Received data for Amazon\n",
            "Received data for Facebook\n",
            "Received data for Tesla\n",
            "Received data for Alphabet (Google)\n",
            "Received data for Shell\n",
            "Received data for Suncor Energy\n",
            "Received data for Exxon Mobil Corp\n",
            "Received data for Lululemon\n",
            "Received data for Walmart\n",
            "Received data for Carters\n",
            "Received data for Childrens Place\n",
            "Received data for TJX Companies\n",
            "Received data for Victorias Secret\n",
            "Received data for MACYs\n",
            "Received data for Wayfair\n",
            "Received data for Dollar Tree\n",
            "Received data for CVS Caremark\n",
            "Received data for Walgreen\n",
            "Received data for Curaleaf\n"
          ]
        }
      ]
    },
    {
      "cell_type": "markdown",
      "source": [
        "Now we have a dictionary with all the opening prices of all the stocks we are interested in. Next step is to make a single data frame with all the common dates."
      ],
      "metadata": {
        "id": "TnQSthpNFpmv"
      }
    },
    {
      "cell_type": "code",
      "source": [
        "# find common dates among all data frames\n",
        "common_dates = None\n",
        "for df_key, df in all_data.items():\n",
        "    if common_dates is None:\n",
        "        common_dates = set(df.index)\n",
        "    else:\n",
        "        common_dates = common_dates.intersection(df.index)\n",
        "\n",
        "common_dates = sorted(list(common_dates))\n",
        "\n",
        "# create new data frame with common dates as index\n",
        "df_combined = pd.DataFrame(index=common_dates)\n",
        "\n",
        "# reindex each data frame with common dates and concatenate horizontally\n",
        "for df_key, df in all_data.items():\n",
        "    df_combined = pd.concat([df_combined, df.reindex(common_dates)], axis=1)\n",
        "\n",
        "df_combined.head()"
      ],
      "metadata": {
        "colab": {
          "base_uri": "https://localhost:8080/",
          "height": 391
        },
        "id": "EAzvaQFdHAEf",
        "outputId": "b80105d3-a191-4d97-e4d0-795ce876056f"
      },
      "execution_count": 5,
      "outputs": [
        {
          "output_type": "execute_result",
          "data": {
            "text/plain": [
              "              Apple    Amazon Facebook     Tesla Alphabet (Google)  Shell  \\\n",
              "2021-07-21   145.53  3576.375    341.5    659.61           2522.67  36.74   \n",
              "2021-07-22  145.935   3587.23   346.68  656.4428           2556.88   37.2   \n",
              "2021-07-23   147.55    3640.0   360.91    646.36           2608.61  37.08   \n",
              "2021-07-26   148.27   3673.17   369.58    650.97          2666.565  37.36   \n",
              "2021-07-27   149.12    3698.5   371.91     663.4           2685.01  37.91   \n",
              "\n",
              "           Suncor Energy Exxon Mobil Corp Lululemon Walmart  Carters  \\\n",
              "2021-07-21          20.7            56.86     383.2   142.5     98.9   \n",
              "2021-07-22         21.07            57.73    383.75  141.13    97.03   \n",
              "2021-07-23         21.03            57.29    394.99  141.52    98.68   \n",
              "2021-07-26         20.81            57.16    402.57  142.36  103.955   \n",
              "2021-07-27         21.12            58.01    394.27   143.0   100.28   \n",
              "\n",
              "           Childrens Place TJX Companies Victorias Secret  MACYs Wayfair  \\\n",
              "2021-07-21           83.28         67.07             55.0  17.09  296.45   \n",
              "2021-07-22           86.76         67.62            42.75  17.54   290.3   \n",
              "2021-07-23           85.46         67.75            41.98  16.98  288.14   \n",
              "2021-07-26           87.31         67.95             40.2  16.75  284.53   \n",
              "2021-07-27            86.3         68.42             41.5  17.23  284.75   \n",
              "\n",
              "           Dollar Tree CVS Caremark Walgreen Curaleaf  \n",
              "2021-07-21       99.09        82.44    46.26     13.0  \n",
              "2021-07-22       99.11        82.71    46.52    12.94  \n",
              "2021-07-23       99.58         83.0    46.78    13.18  \n",
              "2021-07-26      100.09        83.43    46.53    12.95  \n",
              "2021-07-27      100.16        82.55    46.99     12.3  "
            ],
            "text/html": [
              "\n",
              "  <div id=\"df-3bfd67be-e89a-465d-8d58-f0919ccf44e2\">\n",
              "    <div class=\"colab-df-container\">\n",
              "      <div>\n",
              "<style scoped>\n",
              "    .dataframe tbody tr th:only-of-type {\n",
              "        vertical-align: middle;\n",
              "    }\n",
              "\n",
              "    .dataframe tbody tr th {\n",
              "        vertical-align: top;\n",
              "    }\n",
              "\n",
              "    .dataframe thead th {\n",
              "        text-align: right;\n",
              "    }\n",
              "</style>\n",
              "<table border=\"1\" class=\"dataframe\">\n",
              "  <thead>\n",
              "    <tr style=\"text-align: right;\">\n",
              "      <th></th>\n",
              "      <th>Apple</th>\n",
              "      <th>Amazon</th>\n",
              "      <th>Facebook</th>\n",
              "      <th>Tesla</th>\n",
              "      <th>Alphabet (Google)</th>\n",
              "      <th>Shell</th>\n",
              "      <th>Suncor Energy</th>\n",
              "      <th>Exxon Mobil Corp</th>\n",
              "      <th>Lululemon</th>\n",
              "      <th>Walmart</th>\n",
              "      <th>Carters</th>\n",
              "      <th>Childrens Place</th>\n",
              "      <th>TJX Companies</th>\n",
              "      <th>Victorias Secret</th>\n",
              "      <th>MACYs</th>\n",
              "      <th>Wayfair</th>\n",
              "      <th>Dollar Tree</th>\n",
              "      <th>CVS Caremark</th>\n",
              "      <th>Walgreen</th>\n",
              "      <th>Curaleaf</th>\n",
              "    </tr>\n",
              "  </thead>\n",
              "  <tbody>\n",
              "    <tr>\n",
              "      <th>2021-07-21</th>\n",
              "      <td>145.53</td>\n",
              "      <td>3576.375</td>\n",
              "      <td>341.5</td>\n",
              "      <td>659.61</td>\n",
              "      <td>2522.67</td>\n",
              "      <td>36.74</td>\n",
              "      <td>20.7</td>\n",
              "      <td>56.86</td>\n",
              "      <td>383.2</td>\n",
              "      <td>142.5</td>\n",
              "      <td>98.9</td>\n",
              "      <td>83.28</td>\n",
              "      <td>67.07</td>\n",
              "      <td>55.0</td>\n",
              "      <td>17.09</td>\n",
              "      <td>296.45</td>\n",
              "      <td>99.09</td>\n",
              "      <td>82.44</td>\n",
              "      <td>46.26</td>\n",
              "      <td>13.0</td>\n",
              "    </tr>\n",
              "    <tr>\n",
              "      <th>2021-07-22</th>\n",
              "      <td>145.935</td>\n",
              "      <td>3587.23</td>\n",
              "      <td>346.68</td>\n",
              "      <td>656.4428</td>\n",
              "      <td>2556.88</td>\n",
              "      <td>37.2</td>\n",
              "      <td>21.07</td>\n",
              "      <td>57.73</td>\n",
              "      <td>383.75</td>\n",
              "      <td>141.13</td>\n",
              "      <td>97.03</td>\n",
              "      <td>86.76</td>\n",
              "      <td>67.62</td>\n",
              "      <td>42.75</td>\n",
              "      <td>17.54</td>\n",
              "      <td>290.3</td>\n",
              "      <td>99.11</td>\n",
              "      <td>82.71</td>\n",
              "      <td>46.52</td>\n",
              "      <td>12.94</td>\n",
              "    </tr>\n",
              "    <tr>\n",
              "      <th>2021-07-23</th>\n",
              "      <td>147.55</td>\n",
              "      <td>3640.0</td>\n",
              "      <td>360.91</td>\n",
              "      <td>646.36</td>\n",
              "      <td>2608.61</td>\n",
              "      <td>37.08</td>\n",
              "      <td>21.03</td>\n",
              "      <td>57.29</td>\n",
              "      <td>394.99</td>\n",
              "      <td>141.52</td>\n",
              "      <td>98.68</td>\n",
              "      <td>85.46</td>\n",
              "      <td>67.75</td>\n",
              "      <td>41.98</td>\n",
              "      <td>16.98</td>\n",
              "      <td>288.14</td>\n",
              "      <td>99.58</td>\n",
              "      <td>83.0</td>\n",
              "      <td>46.78</td>\n",
              "      <td>13.18</td>\n",
              "    </tr>\n",
              "    <tr>\n",
              "      <th>2021-07-26</th>\n",
              "      <td>148.27</td>\n",
              "      <td>3673.17</td>\n",
              "      <td>369.58</td>\n",
              "      <td>650.97</td>\n",
              "      <td>2666.565</td>\n",
              "      <td>37.36</td>\n",
              "      <td>20.81</td>\n",
              "      <td>57.16</td>\n",
              "      <td>402.57</td>\n",
              "      <td>142.36</td>\n",
              "      <td>103.955</td>\n",
              "      <td>87.31</td>\n",
              "      <td>67.95</td>\n",
              "      <td>40.2</td>\n",
              "      <td>16.75</td>\n",
              "      <td>284.53</td>\n",
              "      <td>100.09</td>\n",
              "      <td>83.43</td>\n",
              "      <td>46.53</td>\n",
              "      <td>12.95</td>\n",
              "    </tr>\n",
              "    <tr>\n",
              "      <th>2021-07-27</th>\n",
              "      <td>149.12</td>\n",
              "      <td>3698.5</td>\n",
              "      <td>371.91</td>\n",
              "      <td>663.4</td>\n",
              "      <td>2685.01</td>\n",
              "      <td>37.91</td>\n",
              "      <td>21.12</td>\n",
              "      <td>58.01</td>\n",
              "      <td>394.27</td>\n",
              "      <td>143.0</td>\n",
              "      <td>100.28</td>\n",
              "      <td>86.3</td>\n",
              "      <td>68.42</td>\n",
              "      <td>41.5</td>\n",
              "      <td>17.23</td>\n",
              "      <td>284.75</td>\n",
              "      <td>100.16</td>\n",
              "      <td>82.55</td>\n",
              "      <td>46.99</td>\n",
              "      <td>12.3</td>\n",
              "    </tr>\n",
              "  </tbody>\n",
              "</table>\n",
              "</div>\n",
              "      <button class=\"colab-df-convert\" onclick=\"convertToInteractive('df-3bfd67be-e89a-465d-8d58-f0919ccf44e2')\"\n",
              "              title=\"Convert this dataframe to an interactive table.\"\n",
              "              style=\"display:none;\">\n",
              "        \n",
              "  <svg xmlns=\"http://www.w3.org/2000/svg\" height=\"24px\"viewBox=\"0 0 24 24\"\n",
              "       width=\"24px\">\n",
              "    <path d=\"M0 0h24v24H0V0z\" fill=\"none\"/>\n",
              "    <path d=\"M18.56 5.44l.94 2.06.94-2.06 2.06-.94-2.06-.94-.94-2.06-.94 2.06-2.06.94zm-11 1L8.5 8.5l.94-2.06 2.06-.94-2.06-.94L8.5 2.5l-.94 2.06-2.06.94zm10 10l.94 2.06.94-2.06 2.06-.94-2.06-.94-.94-2.06-.94 2.06-2.06.94z\"/><path d=\"M17.41 7.96l-1.37-1.37c-.4-.4-.92-.59-1.43-.59-.52 0-1.04.2-1.43.59L10.3 9.45l-7.72 7.72c-.78.78-.78 2.05 0 2.83L4 21.41c.39.39.9.59 1.41.59.51 0 1.02-.2 1.41-.59l7.78-7.78 2.81-2.81c.8-.78.8-2.07 0-2.86zM5.41 20L4 18.59l7.72-7.72 1.47 1.35L5.41 20z\"/>\n",
              "  </svg>\n",
              "      </button>\n",
              "      \n",
              "  <style>\n",
              "    .colab-df-container {\n",
              "      display:flex;\n",
              "      flex-wrap:wrap;\n",
              "      gap: 12px;\n",
              "    }\n",
              "\n",
              "    .colab-df-convert {\n",
              "      background-color: #E8F0FE;\n",
              "      border: none;\n",
              "      border-radius: 50%;\n",
              "      cursor: pointer;\n",
              "      display: none;\n",
              "      fill: #1967D2;\n",
              "      height: 32px;\n",
              "      padding: 0 0 0 0;\n",
              "      width: 32px;\n",
              "    }\n",
              "\n",
              "    .colab-df-convert:hover {\n",
              "      background-color: #E2EBFA;\n",
              "      box-shadow: 0px 1px 2px rgba(60, 64, 67, 0.3), 0px 1px 3px 1px rgba(60, 64, 67, 0.15);\n",
              "      fill: #174EA6;\n",
              "    }\n",
              "\n",
              "    [theme=dark] .colab-df-convert {\n",
              "      background-color: #3B4455;\n",
              "      fill: #D2E3FC;\n",
              "    }\n",
              "\n",
              "    [theme=dark] .colab-df-convert:hover {\n",
              "      background-color: #434B5C;\n",
              "      box-shadow: 0px 1px 3px 1px rgba(0, 0, 0, 0.15);\n",
              "      filter: drop-shadow(0px 1px 2px rgba(0, 0, 0, 0.3));\n",
              "      fill: #FFFFFF;\n",
              "    }\n",
              "  </style>\n",
              "\n",
              "      <script>\n",
              "        const buttonEl =\n",
              "          document.querySelector('#df-3bfd67be-e89a-465d-8d58-f0919ccf44e2 button.colab-df-convert');\n",
              "        buttonEl.style.display =\n",
              "          google.colab.kernel.accessAllowed ? 'block' : 'none';\n",
              "\n",
              "        async function convertToInteractive(key) {\n",
              "          const element = document.querySelector('#df-3bfd67be-e89a-465d-8d58-f0919ccf44e2');\n",
              "          const dataTable =\n",
              "            await google.colab.kernel.invokeFunction('convertToInteractive',\n",
              "                                                     [key], {});\n",
              "          if (!dataTable) return;\n",
              "\n",
              "          const docLinkHtml = 'Like what you see? Visit the ' +\n",
              "            '<a target=\"_blank\" href=https://colab.research.google.com/notebooks/data_table.ipynb>data table notebook</a>'\n",
              "            + ' to learn more about interactive tables.';\n",
              "          element.innerHTML = '';\n",
              "          dataTable['output_type'] = 'display_data';\n",
              "          await google.colab.output.renderOutput(dataTable, element);\n",
              "          const docLink = document.createElement('div');\n",
              "          docLink.innerHTML = docLinkHtml;\n",
              "          element.appendChild(docLink);\n",
              "        }\n",
              "      </script>\n",
              "    </div>\n",
              "  </div>\n",
              "  "
            ]
          },
          "metadata": {},
          "execution_count": 5
        }
      ]
    },
    {
      "cell_type": "code",
      "source": [
        "df_combined.sort_index(axis=0,inplace=True)\n",
        "df_combined=df_combined.astype(float)\n",
        "df_combined.isna().sum()\n"
      ],
      "metadata": {
        "colab": {
          "base_uri": "https://localhost:8080/"
        },
        "id": "OsTcVfO8HH-P",
        "outputId": "57a06321-725f-476a-faf0-bd0218f81515"
      },
      "execution_count": 7,
      "outputs": [
        {
          "output_type": "execute_result",
          "data": {
            "text/plain": [
              "Apple                0\n",
              "Amazon               0\n",
              "Facebook             0\n",
              "Tesla                0\n",
              "Alphabet (Google)    0\n",
              "Shell                0\n",
              "Suncor Energy        0\n",
              "Exxon Mobil Corp     0\n",
              "Lululemon            0\n",
              "Walmart              0\n",
              "Carters              0\n",
              "Childrens Place      0\n",
              "TJX Companies        0\n",
              "Victorias Secret     0\n",
              "MACYs                0\n",
              "Wayfair              0\n",
              "Dollar Tree          0\n",
              "CVS Caremark         0\n",
              "Walgreen             0\n",
              "Curaleaf             0\n",
              "dtype: int64"
            ]
          },
          "metadata": {},
          "execution_count": 7
        }
      ]
    },
    {
      "cell_type": "markdown",
      "source": [
        "We have now completed the data gathering and preprocessing steps, and we have made sure that there are no missing data points.\n",
        "\n",
        "To calculate the correlation between various company stock prices, we use the corr() function in [pandas](https://pandas.pydata.org/docs/reference/api/pandas.DataFrame.corr.html). This calculates the [Pearson correlation coeefficient](https://en.wikipedia.org/wiki/Pearson_correlation_coefficient) among the numerical columns of the data frame when no method argument is passed.\n",
        "\n",
        "Now, let's calculate the correlation between the stock prices of some random combinations of companies."
      ],
      "metadata": {
        "id": "7iaRcq3A8GNh"
      }
    },
    {
      "cell_type": "code",
      "source": [
        "import random\n",
        "for i in range(10):\n",
        "  key1=random.choice(list(companies.keys()))\n",
        "  key2=random.choice(list(companies.keys()))\n",
        "  print(f'Correlation {round(df_combined[key1].corr(df_combined[key2]),2)} between {key1} and {key2}')"
      ],
      "metadata": {
        "id": "yEDzPaClKR9K",
        "colab": {
          "base_uri": "https://localhost:8080/"
        },
        "outputId": "ebc914bc-da3f-49e5-c7e6-0390d0947dad"
      },
      "execution_count": 18,
      "outputs": [
        {
          "output_type": "stream",
          "name": "stdout",
          "text": [
            "Correlation 0.67 between Tesla and Facebook\n",
            "Correlation 0.76 between Lululemon and Facebook\n",
            "Correlation -0.84 between Suncor Energy and Curaleaf\n",
            "Correlation 0.76 between Alphabet (Google) and Childrens Place\n",
            "Correlation 0.41 between Apple and MACYs\n",
            "Correlation 0.7 between Dollar Tree and Exxon Mobil Corp\n",
            "Correlation 0.21 between Exxon Mobil Corp and TJX Companies\n",
            "Correlation 0.22 between Apple and Wayfair\n",
            "Correlation 0.74 between Walgreen and Curaleaf\n",
            "Correlation 0.44 between Facebook and MACYs\n"
          ]
        }
      ]
    },
    {
      "cell_type": "markdown",
      "source": [
        "As evident from the above values, different companies have different correlation coefficients. Tesla and Facebook has a correlation of .67 while the correlation among Suncor and Curaleaf is -0.84.\n",
        "\n",
        "Lets take a deep dive in to this by calculating and visualizing the correlation coefficient for all the possible pairs. To achieve this, we'll use the corr() function without any input arguments."
      ],
      "metadata": {
        "id": "Jtt_F55SNF58"
      }
    },
    {
      "cell_type": "code",
      "source": [
        "import matplotlib.pyplot as plt\n",
        "\n",
        "fig, ax = plt.subplots(figsize=(20, 10))\n",
        "im = ax.imshow(df_combined.corr(), cmap=\"hot\",vmin=-1, vmax=1)\n",
        "ax.set_title('Corelation Coefficient')\n",
        "ax.set_xlabel(\"X Label\")\n",
        "ax.set_ylabel(\"Y Label\")\n",
        "ax.set_xticks(range(len(df_combined.columns)))\n",
        "ax.set_yticks(range(len(df_combined.columns)))\n",
        "ax.set_xticklabels(df_combined.columns,rotation=90)\n",
        "ax.set_yticklabels(df_combined.columns)\n",
        "plt.colorbar(im)\n",
        "plt.show()"
      ],
      "metadata": {
        "colab": {
          "base_uri": "https://localhost:8080/",
          "height": 702
        },
        "id": "Ad926MQZRYRV",
        "outputId": "9151ed83-6a44-4c87-e0e2-e72af2be7f17"
      },
      "execution_count": 49,
      "outputs": [
        {
          "output_type": "display_data",
          "data": {
            "text/plain": [
              "<Figure size 1440x720 with 2 Axes>"
            ],
            "image/png": "[encoded data removed]"
          },
          "metadata": {
            "needs_background": "light"
          }
        }
      ]
    },
    {
      "cell_type": "markdown",
      "source": [
        "In the above plot, the light yellow color represents high positive correlation, while the dark colors represent high negative correlation. We can clearly see some sets of companies (such as Apple, Amazon, Facebook, Tesla, and Google) are correlated with each other by looking at the bright square areas in the above image. As all these companies can be classified as high-tech companies and are often considered to be in the same industry, we can justify this correlation.\n",
        "\n",
        "#Conclusion\n",
        "\n",
        "In this post, we gathered stock price data for 20 companies from different industries, preprocessed the dataset to obtain a single dataframe, and then calculated the Pearson correlation coefficient among them. We then examined the correlation among all possible pairs and observed that some companies are more highly correlated with each other than others. In the next part, we will conduct further analysis of these correlations."
      ],
      "metadata": {
        "id": "4QQgS31zgrTu"
      }
    }
  ]
}