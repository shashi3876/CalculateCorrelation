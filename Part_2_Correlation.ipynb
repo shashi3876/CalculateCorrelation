{
  "nbformat": 4,
  "nbformat_minor": 0,
  "metadata": {
    "colab": {
      "provenance": [],
      "authorship_tag": "ABX9TyOYrqwimr2wyzAr9pU8Uulj",
      "include_colab_link": true
    },
    "kernelspec": {
      "name": "python3",
      "display_name": "Python 3"
    },
    "language_info": {
      "name": "python"
    }
  },
  "cells": [
    {
      "cell_type": "markdown",
      "metadata": {
        "id": "view-in-github",
        "colab_type": "text"
      },
      "source": [
        "<a href=\"https://colab.research.google.com/github/shashi3876/CalculateCorrelation/blob/main/Part_2_Correlation.ipynb\" target=\"_parent\"><img src=\"https://colab.research.google.com/assets/colab-badge.svg\" alt=\"Open In Colab\"/></a>"
      ]
    },
    {
      "cell_type": "markdown",
      "source": [
        "#Introduction\n",
        "\n",
        "\n",
        "In this notebook we will look in to the correlation among time series.\n",
        "Correlation refers to a statistical relationship between two variables. In other words, it measures how two variables are related to each other.\n",
        "\n",
        "Correlation can be positive, negative, or zero. Positive correlation means that as one variable increases, the other variable also tends to increase. Negative correlation means that as one variable increases, the other variable tends to decrease. Zero correlation means that there is no relationship between the variables.\n",
        "\n",
        "The strength of the correlation between two variables is measured by the correlation coefficient, which ranges from -1 to +1. A correlation coefficient of +1 indicates a perfect positive correlation, a correlation coefficient of -1 indicates a perfect negative correlation, and a correlation coefficient of 0 indicates no correlation.\n",
        "\n",
        "Correlation can be useful in identifying patterns and making predictions in a variety of fields, such as finance, marketing, and social science. However, it is important to remember that correlation does not imply causation, meaning that just because two variables are correlated does not mean that one causes the other.\n",
        "\n",
        "#Data Collection\n",
        "\n",
        "We will use real stock prices for several companies to analyze the correlation among them. Here, we will use the free API provided by Alpha Vantage to gather data. It provides both free APIs and premium APIs. You can obtain your own API Key from Alpha Vantage by providing your name and email. We will limit ourselves to the TIME SERIES DAILY ADJUSTED API which provide daily updates on the stock prices for the requested symbol. Here we use outputsize=full to obtain stock prices for the last 20 years. But we will limit our analysis to the prices during the last year. Outputsize=compact (the default value) will provide the stock prices for only the last 100 days and you can choose this option if you want a lesser number of data points. \n",
        "\n"
      ],
      "metadata": {
        "id": "CQ6NihjhDTsg"
      }
    },
    {
      "cell_type": "code",
      "source": [
        "import pandas as pd\n",
        "import numpy as np\n",
        "import seaborn as sns\n",
        "import matplotlib.pyplot as plt\n",
        "import requests\n",
        "\n",
        "companies={'Apple':'AAPL','Amazon':'AMZN','Facebook':'META','Tesla':'TSLA','Alphabet (Google)':'GOOGL','Shell':'SHEL','Suncor Energy':'SU',\n",
        "           'Exxon Mobil Corp':'XOM','Lululemon':'LULU','Walmart':'WMT','Carters':'CRI','Childrens Place':'PLCE','TJX Companies':'TJX',\n",
        "           'Victorias Secret':'VSCO','MACYs':'M','Wayfair':'W','Dollar Tree':'DLTR','CVS Caremark':'CVS','Walgreen':'WBA','Curaleaf':'CURLF'}\n"
      ],
      "metadata": {
        "id": "qh7fkWugmoB9"
      },
      "execution_count": 53,
      "outputs": []
    },
    {
      "cell_type": "markdown",
      "source": [
        "I selected 20 companies from Tech, Retail, Oil and Gas, and other industries . Below is a list of the companies and a brief description along with the stock tracker symbol:\n",
        "## List of stock trackers\n",
        "\n",
        "1. Apple (AAPL): A technology company that designs and sells consumer electronics, computer software, and online services.\n",
        "2. Amazon (AMZN): An online retailer that sells a variety of products and services, including books, electronics, and streaming video.\n",
        "3. Facebook (META): A social networking company that connects people with friends and family, and allows businesses to connect with customers.\n",
        "4. Tesla (TSLA): An electric vehicle and renewable energy company that designs and manufactures high-performance electric cars, solar panels, and energy storage systems.\n",
        "5. Alphabet (Google) (GOOGL): A technology company that provides internet-related services, including search engines, advertising, and cloud computing.\n",
        "6. Shell (SHEL): An oil and gas company that explores, produces, and refines oil and natural gas.\n",
        "7. Suncor Energy (SU): A Canadian integrated energy company that produces and refines oil and natural gas.\n",
        "8. Exxon Mobil Corp (XOM): An oil and gas company that explores, produces, and sells crude oil, natural gas, and petroleum products.\n",
        "9. Lululemon (LULU): A clothing company that designs and sells athletic apparel and accessories.\n",
        "10. Walmart (WMT): A multinational retail corporation that operates a chain of discount department stores and grocery stores.\n",
        "11. Carters (CRI): A clothing company that designs and sells clothing and accessories for babies and young children.\n",
        "12. Childrens Place (PLCE): A clothing company that designs and sells clothing and accessories for children.\n",
        "13. TJX Companies (TJX): A multinational off-price department store corporation that operates stores such as T.J. Maxx, Marshalls, and HomeGoods.\n",
        "14. Victoria's Secret & Co (VSCO): A clothing and lingerie company that designs and sells women's clothing, lingerie, and beauty products.\n",
        "15. Macy's (M): A department store company that sells clothing, accessories, and home goods.\n",
        "16. Wayfair (W): An online retailer that sells furniture and home goods.\n",
        "17. Dollar Tree (DLTR): A discount variety store that sells items for $1 or less.\n",
        "18. CVS Caremark (CVS): A healthcare company that provides pharmacy and healthcare services, including prescription drugs, over-the-counter drugs, and healthcare clinics.\n",
        "19. Walgreen (WBA): A pharmacy retail chain that sells prescription drugs, over-the-counter drugs, and health and wellness products.\n",
        "20. Curaleaf Holdings Inc. (CURLF) is a cannabis and wellness company that operates in the United States and other international markets. \n"
      ],
      "metadata": {
        "id": "QZe7keb66xlh"
      }
    },
    {
      "cell_type": "code",
      "source": [
        "import time\n",
        "print(companies)\n",
        "all_data={}\n",
        "for key,value in companies.items():\n",
        "  print(key)\n",
        "# Replace YOUR_API_KEY with your Alpha Vantage API key\n",
        "  url = f'https://www.alphavantage.co/query?function=TIME_SERIES_DAILY_ADJUSTED&symbol={value}&apikey=Y4F3CK7ZOJVUTKCS2&outputsize=full'\n",
        "\n",
        "  response = requests.get(url)\n",
        "\n",
        "  data = response.json()\n",
        "  time.sleep(15)\n",
        "  if 'Time Series (Daily)' in data and data['Time Series (Daily)']:\n",
        "    df = pd.DataFrame.from_dict(data['Time Series (Daily)'], orient='index')\n",
        "    print(df['1. open'].head())\n",
        "  else:\n",
        "    print(\"Time series data is empty or not available.\")\n",
        "  df.rename(columns = {'1. open':key}, inplace = True)\n",
        "  all_data[key]=df[key]\n",
        "  #df = pd.DataFrame.from_dict(data['Time Series (Daily)'], orient='index')  \n",
        "  "
      ],
      "metadata": {
        "colab": {
          "base_uri": "https://localhost:8080/"
        },
        "id": "6gVuOM_VnLh0",
        "outputId": "17619a78-7329-4f0c-8b99-df6c3665c368"
      },
      "execution_count": 54,
      "outputs": [
        {
          "output_type": "stream",
          "name": "stdout",
          "text": [
            "{'Apple': 'AAPL', 'Amazon': 'AMZN', 'Facebook': 'META', 'Tesla': 'TSLA', 'Alphabet (Google)': 'GOOGL', 'Shell': 'SHEL', 'Suncor Energy': 'SU', 'Exxon Mobil Corp': 'XOM', 'Lululemon': 'LULU', 'Walmart': 'WMT', 'Carters': 'CRI', 'Childrens Place': 'PLCE', 'TJX Companies': 'TJX', 'Victorias Secret': 'VSCO', 'MACYs': 'M', 'Wayfair': 'W', 'Dollar Tree': 'DLTR', 'CVS Caremark': 'CVS', 'Walgreen': 'WBA', 'Curaleaf': 'CURLF'}\n",
            "Apple\n",
            "2023-03-10     150.21\n",
            "2023-03-09    153.559\n",
            "2023-03-08     152.81\n",
            "2023-03-07      153.7\n",
            "2023-03-06    153.785\n",
            "Name: 1. open, dtype: object\n",
            "Amazon\n",
            "2023-03-10    92.67\n",
            "2023-03-09    93.68\n",
            "2023-03-08     93.6\n",
            "2023-03-07    94.06\n",
            "2023-03-06    95.19\n",
            "Name: 1. open, dtype: object\n",
            "Facebook\n",
            "2023-03-10    181.01\n",
            "2023-03-09    186.35\n",
            "2023-03-08    182.87\n",
            "2023-03-07     189.0\n",
            "2023-03-06     188.0\n",
            "Name: 1. open, dtype: object\n",
            "Tesla\n",
            "2023-03-10    175.13\n",
            "2023-03-09    180.25\n",
            "2023-03-08    185.04\n",
            "2023-03-07    191.38\n",
            "2023-03-06    198.54\n",
            "Name: 1. open, dtype: object\n",
            "Alphabet (Google)\n",
            "2023-03-10     92.17\n",
            "2023-03-09     94.05\n",
            "2023-03-08     94.12\n",
            "2023-03-07     94.98\n",
            "2023-03-06    94.015\n",
            "Name: 1. open, dtype: object\n",
            "Shell\n",
            "2023-03-10    61.25\n",
            "2023-03-09    61.25\n",
            "2023-03-08    61.51\n",
            "2023-03-07    62.35\n",
            "2023-03-06    62.31\n",
            "Name: 1. open, dtype: object\n",
            "Suncor Energy\n",
            "2023-03-10    33.82\n",
            "2023-03-09    34.38\n",
            "2023-03-08     34.0\n",
            "2023-03-07    34.94\n",
            "2023-03-06    35.15\n",
            "Name: 1. open, dtype: object\n",
            "Exxon Mobil Corp\n",
            "2023-03-10    109.56\n",
            "2023-03-09    110.87\n",
            "2023-03-08    111.23\n",
            "2023-03-07    112.81\n",
            "2023-03-06    111.99\n",
            "Name: 1. open, dtype: object\n",
            "Lululemon\n",
            "2023-03-10    302.88\n",
            "2023-03-09    305.73\n",
            "2023-03-08    302.11\n",
            "2023-03-07    305.73\n",
            "2023-03-06    314.27\n",
            "Name: 1. open, dtype: object\n",
            "Walmart\n",
            "2023-03-10    137.02\n",
            "2023-03-09    138.83\n",
            "2023-03-08    138.56\n",
            "2023-03-07    141.18\n",
            "2023-03-06     140.5\n",
            "Name: 1. open, dtype: object\n",
            "Carters\n",
            "2023-03-10    71.63\n",
            "2023-03-09    73.38\n",
            "2023-03-08    72.56\n",
            "2023-03-07     72.8\n",
            "2023-03-06    74.25\n",
            "Name: 1. open, dtype: object\n",
            "Childrens Place\n",
            "2023-03-10    41.02\n",
            "2023-03-09    42.02\n",
            "2023-03-08    41.85\n",
            "2023-03-07     40.9\n",
            "2023-03-06     44.1\n",
            "Name: 1. open, dtype: object\n",
            "TJX Companies\n",
            "2023-03-10    75.03\n",
            "2023-03-09    76.74\n",
            "2023-03-08    77.44\n",
            "2023-03-07    78.58\n",
            "2023-03-06    77.66\n",
            "Name: 1. open, dtype: object\n",
            "Victorias Secret\n",
            "2023-03-10    32.07\n",
            "2023-03-09     33.5\n",
            "2023-03-08    35.03\n",
            "2023-03-07    34.61\n",
            "2023-03-06    35.78\n",
            "Name: 1. open, dtype: object\n",
            "MACYs\n",
            "2023-03-10    20.27\n",
            "2023-03-09    20.94\n",
            "2023-03-08    21.19\n",
            "2023-03-07    21.79\n",
            "2023-03-06    22.87\n",
            "Name: 1. open, dtype: object\n",
            "Wayfair\n",
            "2023-03-10     36.0\n",
            "2023-03-09    38.06\n",
            "2023-03-08    38.51\n",
            "2023-03-07    39.03\n",
            "2023-03-06    40.91\n",
            "Name: 1. open, dtype: object\n",
            "Dollar Tree\n",
            "2023-03-10    140.22\n",
            "2023-03-09     141.9\n",
            "2023-03-08    142.11\n",
            "2023-03-07     143.7\n",
            "2023-03-06     150.0\n",
            "Name: 1. open, dtype: object\n",
            "CVS Caremark\n",
            "2023-03-10    77.01\n",
            "2023-03-09    79.97\n",
            "2023-03-08    80.33\n",
            "2023-03-07    82.65\n",
            "2023-03-06     82.0\n",
            "Name: 1. open, dtype: object\n",
            "Walgreen\n",
            "2023-03-10     33.37\n",
            "2023-03-09    34.495\n",
            "2023-03-08     34.21\n",
            "2023-03-07     35.48\n",
            "2023-03-06     36.05\n",
            "Name: 1. open, dtype: object\n",
            "Curaleaf\n",
            "2023-03-10    3.66\n",
            "2023-03-09    3.76\n",
            "2023-03-08    3.88\n",
            "2023-03-07    3.83\n",
            "2023-03-06    3.91\n",
            "Name: 1. open, dtype: object\n"
          ]
        }
      ]
    },
    {
      "cell_type": "markdown",
      "source": [
        "Now we have a dictionary with all the opening prices of all the stocks we are interested in. Next step is to make a single data frame with all the common dates."
      ],
      "metadata": {
        "id": "TnQSthpNFpmv"
      }
    },
    {
      "cell_type": "code",
      "source": [
        "# find common dates among all data frames\n",
        "common_dates = None\n",
        "for df_key, df in all_data.items():\n",
        "    if common_dates is None:\n",
        "        common_dates = set(df.index)\n",
        "    else:\n",
        "        common_dates = common_dates.intersection(df.index)\n",
        "\n",
        "common_dates = sorted(list(common_dates))\n",
        "\n",
        "# create new data frame with common dates as index\n",
        "df_combined = pd.DataFrame(index=common_dates)\n",
        "\n",
        "# reindex each data frame with common dates and concatenate horizontally\n",
        "for df_key, df in all_data.items():\n",
        "    df_combined = pd.concat([df_combined, df.reindex(common_dates)], axis=1)\n",
        "\n",
        "df_combined.head()"
      ],
      "metadata": {
        "colab": {
          "base_uri": "https://localhost:8080/",
          "height": 391
        },
        "id": "EAzvaQFdHAEf",
        "outputId": "83a4660b-b025-4c93-927a-90579b51ed1b"
      },
      "execution_count": 55,
      "outputs": [
        {
          "output_type": "execute_result",
          "data": {
            "text/plain": [
              "              Apple    Amazon Facebook     Tesla Alphabet (Google)  Shell  \\\n",
              "2021-07-21   145.53  3576.375    341.5    659.61           2522.67  36.74   \n",
              "2021-07-22  145.935   3587.23   346.68  656.4428           2556.88   37.2   \n",
              "2021-07-23   147.55    3640.0   360.91    646.36           2608.61  37.08   \n",
              "2021-07-26   148.27   3673.17   369.58    650.97          2666.565  37.36   \n",
              "2021-07-27   149.12    3698.5   371.91     663.4           2685.01  37.91   \n",
              "\n",
              "           Suncor Energy Exxon Mobil Corp Lululemon Walmart  Carters  \\\n",
              "2021-07-21          20.7            56.86     383.2   142.5     98.9   \n",
              "2021-07-22         21.07            57.73    383.75  141.13    97.03   \n",
              "2021-07-23         21.03            57.29    394.99  141.52    98.68   \n",
              "2021-07-26         20.81            57.16    402.57  142.36  103.955   \n",
              "2021-07-27         21.12            58.01    394.27   143.0   100.28   \n",
              "\n",
              "           Childrens Place TJX Companies Victorias Secret  MACYs Wayfair  \\\n",
              "2021-07-21           83.28         67.07             55.0  17.09  296.45   \n",
              "2021-07-22           86.76         67.62            42.75  17.54   290.3   \n",
              "2021-07-23           85.46         67.75            41.98  16.98  288.14   \n",
              "2021-07-26           87.31         67.95             40.2  16.75  284.53   \n",
              "2021-07-27            86.3         68.42             41.5  17.23  284.75   \n",
              "\n",
              "           Dollar Tree CVS Caremark Walgreen Curaleaf  \n",
              "2021-07-21       99.09        82.44    46.26     13.0  \n",
              "2021-07-22       99.11        82.71    46.52    12.94  \n",
              "2021-07-23       99.58         83.0    46.78    13.18  \n",
              "2021-07-26      100.09        83.43    46.53    12.95  \n",
              "2021-07-27      100.16        82.55    46.99     12.3  "
            ],
            "text/html": [
              "\n",
              "  <div id=\"df-2e4c8ae3-897c-499c-86ea-3f5ad8a9adf5\">\n",
              "    <div class=\"colab-df-container\">\n",
              "      <div>\n",
              "<style scoped>\n",
              "    .dataframe tbody tr th:only-of-type {\n",
              "        vertical-align: middle;\n",
              "    }\n",
              "\n",
              "    .dataframe tbody tr th {\n",
              "        vertical-align: top;\n",
              "    }\n",
              "\n",
              "    .dataframe thead th {\n",
              "        text-align: right;\n",
              "    }\n",
              "</style>\n",
              "<table border=\"1\" class=\"dataframe\">\n",
              "  <thead>\n",
              "    <tr style=\"text-align: right;\">\n",
              "      <th></th>\n",
              "      <th>Apple</th>\n",
              "      <th>Amazon</th>\n",
              "      <th>Facebook</th>\n",
              "      <th>Tesla</th>\n",
              "      <th>Alphabet (Google)</th>\n",
              "      <th>Shell</th>\n",
              "      <th>Suncor Energy</th>\n",
              "      <th>Exxon Mobil Corp</th>\n",
              "      <th>Lululemon</th>\n",
              "      <th>Walmart</th>\n",
              "      <th>Carters</th>\n",
              "      <th>Childrens Place</th>\n",
              "      <th>TJX Companies</th>\n",
              "      <th>Victorias Secret</th>\n",
              "      <th>MACYs</th>\n",
              "      <th>Wayfair</th>\n",
              "      <th>Dollar Tree</th>\n",
              "      <th>CVS Caremark</th>\n",
              "      <th>Walgreen</th>\n",
              "      <th>Curaleaf</th>\n",
              "    </tr>\n",
              "  </thead>\n",
              "  <tbody>\n",
              "    <tr>\n",
              "      <th>2021-07-21</th>\n",
              "      <td>145.53</td>\n",
              "      <td>3576.375</td>\n",
              "      <td>341.5</td>\n",
              "      <td>659.61</td>\n",
              "      <td>2522.67</td>\n",
              "      <td>36.74</td>\n",
              "      <td>20.7</td>\n",
              "      <td>56.86</td>\n",
              "      <td>383.2</td>\n",
              "      <td>142.5</td>\n",
              "      <td>98.9</td>\n",
              "      <td>83.28</td>\n",
              "      <td>67.07</td>\n",
              "      <td>55.0</td>\n",
              "      <td>17.09</td>\n",
              "      <td>296.45</td>\n",
              "      <td>99.09</td>\n",
              "      <td>82.44</td>\n",
              "      <td>46.26</td>\n",
              "      <td>13.0</td>\n",
              "    </tr>\n",
              "    <tr>\n",
              "      <th>2021-07-22</th>\n",
              "      <td>145.935</td>\n",
              "      <td>3587.23</td>\n",
              "      <td>346.68</td>\n",
              "      <td>656.4428</td>\n",
              "      <td>2556.88</td>\n",
              "      <td>37.2</td>\n",
              "      <td>21.07</td>\n",
              "      <td>57.73</td>\n",
              "      <td>383.75</td>\n",
              "      <td>141.13</td>\n",
              "      <td>97.03</td>\n",
              "      <td>86.76</td>\n",
              "      <td>67.62</td>\n",
              "      <td>42.75</td>\n",
              "      <td>17.54</td>\n",
              "      <td>290.3</td>\n",
              "      <td>99.11</td>\n",
              "      <td>82.71</td>\n",
              "      <td>46.52</td>\n",
              "      <td>12.94</td>\n",
              "    </tr>\n",
              "    <tr>\n",
              "      <th>2021-07-23</th>\n",
              "      <td>147.55</td>\n",
              "      <td>3640.0</td>\n",
              "      <td>360.91</td>\n",
              "      <td>646.36</td>\n",
              "      <td>2608.61</td>\n",
              "      <td>37.08</td>\n",
              "      <td>21.03</td>\n",
              "      <td>57.29</td>\n",
              "      <td>394.99</td>\n",
              "      <td>141.52</td>\n",
              "      <td>98.68</td>\n",
              "      <td>85.46</td>\n",
              "      <td>67.75</td>\n",
              "      <td>41.98</td>\n",
              "      <td>16.98</td>\n",
              "      <td>288.14</td>\n",
              "      <td>99.58</td>\n",
              "      <td>83.0</td>\n",
              "      <td>46.78</td>\n",
              "      <td>13.18</td>\n",
              "    </tr>\n",
              "    <tr>\n",
              "      <th>2021-07-26</th>\n",
              "      <td>148.27</td>\n",
              "      <td>3673.17</td>\n",
              "      <td>369.58</td>\n",
              "      <td>650.97</td>\n",
              "      <td>2666.565</td>\n",
              "      <td>37.36</td>\n",
              "      <td>20.81</td>\n",
              "      <td>57.16</td>\n",
              "      <td>402.57</td>\n",
              "      <td>142.36</td>\n",
              "      <td>103.955</td>\n",
              "      <td>87.31</td>\n",
              "      <td>67.95</td>\n",
              "      <td>40.2</td>\n",
              "      <td>16.75</td>\n",
              "      <td>284.53</td>\n",
              "      <td>100.09</td>\n",
              "      <td>83.43</td>\n",
              "      <td>46.53</td>\n",
              "      <td>12.95</td>\n",
              "    </tr>\n",
              "    <tr>\n",
              "      <th>2021-07-27</th>\n",
              "      <td>149.12</td>\n",
              "      <td>3698.5</td>\n",
              "      <td>371.91</td>\n",
              "      <td>663.4</td>\n",
              "      <td>2685.01</td>\n",
              "      <td>37.91</td>\n",
              "      <td>21.12</td>\n",
              "      <td>58.01</td>\n",
              "      <td>394.27</td>\n",
              "      <td>143.0</td>\n",
              "      <td>100.28</td>\n",
              "      <td>86.3</td>\n",
              "      <td>68.42</td>\n",
              "      <td>41.5</td>\n",
              "      <td>17.23</td>\n",
              "      <td>284.75</td>\n",
              "      <td>100.16</td>\n",
              "      <td>82.55</td>\n",
              "      <td>46.99</td>\n",
              "      <td>12.3</td>\n",
              "    </tr>\n",
              "  </tbody>\n",
              "</table>\n",
              "</div>\n",
              "      <button class=\"colab-df-convert\" onclick=\"convertToInteractive('df-2e4c8ae3-897c-499c-86ea-3f5ad8a9adf5')\"\n",
              "              title=\"Convert this dataframe to an interactive table.\"\n",
              "              style=\"display:none;\">\n",
              "        \n",
              "  <svg xmlns=\"http://www.w3.org/2000/svg\" height=\"24px\"viewBox=\"0 0 24 24\"\n",
              "       width=\"24px\">\n",
              "    <path d=\"M0 0h24v24H0V0z\" fill=\"none\"/>\n",
              "    <path d=\"M18.56 5.44l.94 2.06.94-2.06 2.06-.94-2.06-.94-.94-2.06-.94 2.06-2.06.94zm-11 1L8.5 8.5l.94-2.06 2.06-.94-2.06-.94L8.5 2.5l-.94 2.06-2.06.94zm10 10l.94 2.06.94-2.06 2.06-.94-2.06-.94-.94-2.06-.94 2.06-2.06.94z\"/><path d=\"M17.41 7.96l-1.37-1.37c-.4-.4-.92-.59-1.43-.59-.52 0-1.04.2-1.43.59L10.3 9.45l-7.72 7.72c-.78.78-.78 2.05 0 2.83L4 21.41c.39.39.9.59 1.41.59.51 0 1.02-.2 1.41-.59l7.78-7.78 2.81-2.81c.8-.78.8-2.07 0-2.86zM5.41 20L4 18.59l7.72-7.72 1.47 1.35L5.41 20z\"/>\n",
              "  </svg>\n",
              "      </button>\n",
              "      \n",
              "  <style>\n",
              "    .colab-df-container {\n",
              "      display:flex;\n",
              "      flex-wrap:wrap;\n",
              "      gap: 12px;\n",
              "    }\n",
              "\n",
              "    .colab-df-convert {\n",
              "      background-color: #E8F0FE;\n",
              "      border: none;\n",
              "      border-radius: 50%;\n",
              "      cursor: pointer;\n",
              "      display: none;\n",
              "      fill: #1967D2;\n",
              "      height: 32px;\n",
              "      padding: 0 0 0 0;\n",
              "      width: 32px;\n",
              "    }\n",
              "\n",
              "    .colab-df-convert:hover {\n",
              "      background-color: #E2EBFA;\n",
              "      box-shadow: 0px 1px 2px rgba(60, 64, 67, 0.3), 0px 1px 3px 1px rgba(60, 64, 67, 0.15);\n",
              "      fill: #174EA6;\n",
              "    }\n",
              "\n",
              "    [theme=dark] .colab-df-convert {\n",
              "      background-color: #3B4455;\n",
              "      fill: #D2E3FC;\n",
              "    }\n",
              "\n",
              "    [theme=dark] .colab-df-convert:hover {\n",
              "      background-color: #434B5C;\n",
              "      box-shadow: 0px 1px 3px 1px rgba(0, 0, 0, 0.15);\n",
              "      filter: drop-shadow(0px 1px 2px rgba(0, 0, 0, 0.3));\n",
              "      fill: #FFFFFF;\n",
              "    }\n",
              "  </style>\n",
              "\n",
              "      <script>\n",
              "        const buttonEl =\n",
              "          document.querySelector('#df-2e4c8ae3-897c-499c-86ea-3f5ad8a9adf5 button.colab-df-convert');\n",
              "        buttonEl.style.display =\n",
              "          google.colab.kernel.accessAllowed ? 'block' : 'none';\n",
              "\n",
              "        async function convertToInteractive(key) {\n",
              "          const element = document.querySelector('#df-2e4c8ae3-897c-499c-86ea-3f5ad8a9adf5');\n",
              "          const dataTable =\n",
              "            await google.colab.kernel.invokeFunction('convertToInteractive',\n",
              "                                                     [key], {});\n",
              "          if (!dataTable) return;\n",
              "\n",
              "          const docLinkHtml = 'Like what you see? Visit the ' +\n",
              "            '<a target=\"_blank\" href=https://colab.research.google.com/notebooks/data_table.ipynb>data table notebook</a>'\n",
              "            + ' to learn more about interactive tables.';\n",
              "          element.innerHTML = '';\n",
              "          dataTable['output_type'] = 'display_data';\n",
              "          await google.colab.output.renderOutput(dataTable, element);\n",
              "          const docLink = document.createElement('div');\n",
              "          docLink.innerHTML = docLinkHtml;\n",
              "          element.appendChild(docLink);\n",
              "        }\n",
              "      </script>\n",
              "    </div>\n",
              "  </div>\n",
              "  "
            ]
          },
          "metadata": {},
          "execution_count": 55
        }
      ]
    },
    {
      "cell_type": "code",
      "source": [
        "df_combined.sort_index(axis=0,inplace=True)\n",
        "df_combined=df_combined.astype(float)\n",
        "df_combined.isna().sum()\n"
      ],
      "metadata": {
        "colab": {
          "base_uri": "https://localhost:8080/"
        },
        "id": "OsTcVfO8HH-P",
        "outputId": "8cdceca4-df28-44d7-88dd-b4ced3b9cd3f"
      },
      "execution_count": 56,
      "outputs": [
        {
          "output_type": "execute_result",
          "data": {
            "text/plain": [
              "Apple                0\n",
              "Amazon               0\n",
              "Facebook             0\n",
              "Tesla                0\n",
              "Alphabet (Google)    0\n",
              "Shell                0\n",
              "Suncor Energy        0\n",
              "Exxon Mobil Corp     0\n",
              "Lululemon            0\n",
              "Walmart              0\n",
              "Carters              0\n",
              "Childrens Place      0\n",
              "TJX Companies        0\n",
              "Victorias Secret     0\n",
              "MACYs                0\n",
              "Wayfair              0\n",
              "Dollar Tree          0\n",
              "CVS Caremark         0\n",
              "Walgreen             0\n",
              "Curaleaf             0\n",
              "dtype: int64"
            ]
          },
          "metadata": {},
          "execution_count": 56
        }
      ]
    },
    {
      "cell_type": "code",
      "source": [
        "df_combined"
      ],
      "metadata": {
        "colab": {
          "base_uri": "https://localhost:8080/",
          "height": 696
        },
        "id": "smCXbCqS6QJR",
        "outputId": "fbd9b52f-2620-4775-cabb-520c6464b362"
      },
      "execution_count": 57,
      "outputs": [
        {
          "output_type": "execute_result",
          "data": {
            "text/plain": [
              "              Apple    Amazon  Facebook     Tesla  Alphabet (Google)  Shell  \\\n",
              "2021-07-21  145.530  3576.375    341.50  659.6100           2522.670  36.74   \n",
              "2021-07-22  145.935  3587.230    346.68  656.4428           2556.880  37.20   \n",
              "2021-07-23  147.550  3640.000    360.91  646.3600           2608.610  37.08   \n",
              "2021-07-26  148.270  3673.170    369.58  650.9700           2666.565  37.36   \n",
              "2021-07-27  149.120  3698.500    371.91  663.4000           2685.010  37.91   \n",
              "...             ...       ...       ...       ...                ...    ...   \n",
              "2023-03-06  153.785    95.190    188.00  198.5400             94.015  62.31   \n",
              "2023-03-07  153.700    94.060    189.00  191.3800             94.980  62.35   \n",
              "2023-03-08  152.810    93.600    182.87  185.0400             94.120  61.51   \n",
              "2023-03-09  153.559    93.680    186.35  180.2500             94.050  61.25   \n",
              "2023-03-10  150.210    92.670    181.01  175.1300             92.170  61.25   \n",
              "\n",
              "            Suncor Energy  Exxon Mobil Corp  Lululemon  Walmart  Carters  \\\n",
              "2021-07-21          20.70             56.86     383.20   142.50   98.900   \n",
              "2021-07-22          21.07             57.73     383.75   141.13   97.030   \n",
              "2021-07-23          21.03             57.29     394.99   141.52   98.680   \n",
              "2021-07-26          20.81             57.16     402.57   142.36  103.955   \n",
              "2021-07-27          21.12             58.01     394.27   143.00  100.280   \n",
              "...                   ...               ...        ...      ...      ...   \n",
              "2023-03-06          35.15            111.99     314.27   140.50   74.250   \n",
              "2023-03-07          34.94            112.81     305.73   141.18   72.800   \n",
              "2023-03-08          34.00            111.23     302.11   138.56   72.560   \n",
              "2023-03-09          34.38            110.87     305.73   138.83   73.380   \n",
              "2023-03-10          33.82            109.56     302.88   137.02   71.630   \n",
              "\n",
              "            Childrens Place  TJX Companies  Victorias Secret  MACYs  Wayfair  \\\n",
              "2021-07-21            83.28          67.07             55.00  17.09   296.45   \n",
              "2021-07-22            86.76          67.62             42.75  17.54   290.30   \n",
              "2021-07-23            85.46          67.75             41.98  16.98   288.14   \n",
              "2021-07-26            87.31          67.95             40.20  16.75   284.53   \n",
              "2021-07-27            86.30          68.42             41.50  17.23   284.75   \n",
              "...                     ...            ...               ...    ...      ...   \n",
              "2023-03-06            44.10          77.66             35.78  22.87    40.91   \n",
              "2023-03-07            40.90          78.58             34.61  21.79    39.03   \n",
              "2023-03-08            41.85          77.44             35.03  21.19    38.51   \n",
              "2023-03-09            42.02          76.74             33.50  20.94    38.06   \n",
              "2023-03-10            41.02          75.03             32.07  20.27    36.00   \n",
              "\n",
              "            Dollar Tree  CVS Caremark  Walgreen  Curaleaf  \n",
              "2021-07-21        99.09         82.44    46.260     13.00  \n",
              "2021-07-22        99.11         82.71    46.520     12.94  \n",
              "2021-07-23        99.58         83.00    46.780     13.18  \n",
              "2021-07-26       100.09         83.43    46.530     12.95  \n",
              "2021-07-27       100.16         82.55    46.990     12.30  \n",
              "...                 ...           ...       ...       ...  \n",
              "2023-03-06       150.00         82.00    36.050      3.91  \n",
              "2023-03-07       143.70         82.65    35.480      3.83  \n",
              "2023-03-08       142.11         80.33    34.210      3.88  \n",
              "2023-03-09       141.90         79.97    34.495      3.76  \n",
              "2023-03-10       140.22         77.01    33.370      3.66  \n",
              "\n",
              "[413 rows x 20 columns]"
            ],
            "text/html": [
              "\n",
              "  <div id=\"df-e8058a01-45ba-49b1-95df-9d376aa0df13\">\n",
              "    <div class=\"colab-df-container\">\n",
              "      <div>\n",
              "<style scoped>\n",
              "    .dataframe tbody tr th:only-of-type {\n",
              "        vertical-align: middle;\n",
              "    }\n",
              "\n",
              "    .dataframe tbody tr th {\n",
              "        vertical-align: top;\n",
              "    }\n",
              "\n",
              "    .dataframe thead th {\n",
              "        text-align: right;\n",
              "    }\n",
              "</style>\n",
              "<table border=\"1\" class=\"dataframe\">\n",
              "  <thead>\n",
              "    <tr style=\"text-align: right;\">\n",
              "      <th></th>\n",
              "      <th>Apple</th>\n",
              "      <th>Amazon</th>\n",
              "      <th>Facebook</th>\n",
              "      <th>Tesla</th>\n",
              "      <th>Alphabet (Google)</th>\n",
              "      <th>Shell</th>\n",
              "      <th>Suncor Energy</th>\n",
              "      <th>Exxon Mobil Corp</th>\n",
              "      <th>Lululemon</th>\n",
              "      <th>Walmart</th>\n",
              "      <th>Carters</th>\n",
              "      <th>Childrens Place</th>\n",
              "      <th>TJX Companies</th>\n",
              "      <th>Victorias Secret</th>\n",
              "      <th>MACYs</th>\n",
              "      <th>Wayfair</th>\n",
              "      <th>Dollar Tree</th>\n",
              "      <th>CVS Caremark</th>\n",
              "      <th>Walgreen</th>\n",
              "      <th>Curaleaf</th>\n",
              "    </tr>\n",
              "  </thead>\n",
              "  <tbody>\n",
              "    <tr>\n",
              "      <th>2021-07-21</th>\n",
              "      <td>145.530</td>\n",
              "      <td>3576.375</td>\n",
              "      <td>341.50</td>\n",
              "      <td>659.6100</td>\n",
              "      <td>2522.670</td>\n",
              "      <td>36.74</td>\n",
              "      <td>20.70</td>\n",
              "      <td>56.86</td>\n",
              "      <td>383.20</td>\n",
              "      <td>142.50</td>\n",
              "      <td>98.900</td>\n",
              "      <td>83.28</td>\n",
              "      <td>67.07</td>\n",
              "      <td>55.00</td>\n",
              "      <td>17.09</td>\n",
              "      <td>296.45</td>\n",
              "      <td>99.09</td>\n",
              "      <td>82.44</td>\n",
              "      <td>46.260</td>\n",
              "      <td>13.00</td>\n",
              "    </tr>\n",
              "    <tr>\n",
              "      <th>2021-07-22</th>\n",
              "      <td>145.935</td>\n",
              "      <td>3587.230</td>\n",
              "      <td>346.68</td>\n",
              "      <td>656.4428</td>\n",
              "      <td>2556.880</td>\n",
              "      <td>37.20</td>\n",
              "      <td>21.07</td>\n",
              "      <td>57.73</td>\n",
              "      <td>383.75</td>\n",
              "      <td>141.13</td>\n",
              "      <td>97.030</td>\n",
              "      <td>86.76</td>\n",
              "      <td>67.62</td>\n",
              "      <td>42.75</td>\n",
              "      <td>17.54</td>\n",
              "      <td>290.30</td>\n",
              "      <td>99.11</td>\n",
              "      <td>82.71</td>\n",
              "      <td>46.520</td>\n",
              "      <td>12.94</td>\n",
              "    </tr>\n",
              "    <tr>\n",
              "      <th>2021-07-23</th>\n",
              "      <td>147.550</td>\n",
              "      <td>3640.000</td>\n",
              "      <td>360.91</td>\n",
              "      <td>646.3600</td>\n",
              "      <td>2608.610</td>\n",
              "      <td>37.08</td>\n",
              "      <td>21.03</td>\n",
              "      <td>57.29</td>\n",
              "      <td>394.99</td>\n",
              "      <td>141.52</td>\n",
              "      <td>98.680</td>\n",
              "      <td>85.46</td>\n",
              "      <td>67.75</td>\n",
              "      <td>41.98</td>\n",
              "      <td>16.98</td>\n",
              "      <td>288.14</td>\n",
              "      <td>99.58</td>\n",
              "      <td>83.00</td>\n",
              "      <td>46.780</td>\n",
              "      <td>13.18</td>\n",
              "    </tr>\n",
              "    <tr>\n",
              "      <th>2021-07-26</th>\n",
              "      <td>148.270</td>\n",
              "      <td>3673.170</td>\n",
              "      <td>369.58</td>\n",
              "      <td>650.9700</td>\n",
              "      <td>2666.565</td>\n",
              "      <td>37.36</td>\n",
              "      <td>20.81</td>\n",
              "      <td>57.16</td>\n",
              "      <td>402.57</td>\n",
              "      <td>142.36</td>\n",
              "      <td>103.955</td>\n",
              "      <td>87.31</td>\n",
              "      <td>67.95</td>\n",
              "      <td>40.20</td>\n",
              "      <td>16.75</td>\n",
              "      <td>284.53</td>\n",
              "      <td>100.09</td>\n",
              "      <td>83.43</td>\n",
              "      <td>46.530</td>\n",
              "      <td>12.95</td>\n",
              "    </tr>\n",
              "    <tr>\n",
              "      <th>2021-07-27</th>\n",
              "      <td>149.120</td>\n",
              "      <td>3698.500</td>\n",
              "      <td>371.91</td>\n",
              "      <td>663.4000</td>\n",
              "      <td>2685.010</td>\n",
              "      <td>37.91</td>\n",
              "      <td>21.12</td>\n",
              "      <td>58.01</td>\n",
              "      <td>394.27</td>\n",
              "      <td>143.00</td>\n",
              "      <td>100.280</td>\n",
              "      <td>86.30</td>\n",
              "      <td>68.42</td>\n",
              "      <td>41.50</td>\n",
              "      <td>17.23</td>\n",
              "      <td>284.75</td>\n",
              "      <td>100.16</td>\n",
              "      <td>82.55</td>\n",
              "      <td>46.990</td>\n",
              "      <td>12.30</td>\n",
              "    </tr>\n",
              "    <tr>\n",
              "      <th>...</th>\n",
              "      <td>...</td>\n",
              "      <td>...</td>\n",
              "      <td>...</td>\n",
              "      <td>...</td>\n",
              "      <td>...</td>\n",
              "      <td>...</td>\n",
              "      <td>...</td>\n",
              "      <td>...</td>\n",
              "      <td>...</td>\n",
              "      <td>...</td>\n",
              "      <td>...</td>\n",
              "      <td>...</td>\n",
              "      <td>...</td>\n",
              "      <td>...</td>\n",
              "      <td>...</td>\n",
              "      <td>...</td>\n",
              "      <td>...</td>\n",
              "      <td>...</td>\n",
              "      <td>...</td>\n",
              "      <td>...</td>\n",
              "    </tr>\n",
              "    <tr>\n",
              "      <th>2023-03-06</th>\n",
              "      <td>153.785</td>\n",
              "      <td>95.190</td>\n",
              "      <td>188.00</td>\n",
              "      <td>198.5400</td>\n",
              "      <td>94.015</td>\n",
              "      <td>62.31</td>\n",
              "      <td>35.15</td>\n",
              "      <td>111.99</td>\n",
              "      <td>314.27</td>\n",
              "      <td>140.50</td>\n",
              "      <td>74.250</td>\n",
              "      <td>44.10</td>\n",
              "      <td>77.66</td>\n",
              "      <td>35.78</td>\n",
              "      <td>22.87</td>\n",
              "      <td>40.91</td>\n",
              "      <td>150.00</td>\n",
              "      <td>82.00</td>\n",
              "      <td>36.050</td>\n",
              "      <td>3.91</td>\n",
              "    </tr>\n",
              "    <tr>\n",
              "      <th>2023-03-07</th>\n",
              "      <td>153.700</td>\n",
              "      <td>94.060</td>\n",
              "      <td>189.00</td>\n",
              "      <td>191.3800</td>\n",
              "      <td>94.980</td>\n",
              "      <td>62.35</td>\n",
              "      <td>34.94</td>\n",
              "      <td>112.81</td>\n",
              "      <td>305.73</td>\n",
              "      <td>141.18</td>\n",
              "      <td>72.800</td>\n",
              "      <td>40.90</td>\n",
              "      <td>78.58</td>\n",
              "      <td>34.61</td>\n",
              "      <td>21.79</td>\n",
              "      <td>39.03</td>\n",
              "      <td>143.70</td>\n",
              "      <td>82.65</td>\n",
              "      <td>35.480</td>\n",
              "      <td>3.83</td>\n",
              "    </tr>\n",
              "    <tr>\n",
              "      <th>2023-03-08</th>\n",
              "      <td>152.810</td>\n",
              "      <td>93.600</td>\n",
              "      <td>182.87</td>\n",
              "      <td>185.0400</td>\n",
              "      <td>94.120</td>\n",
              "      <td>61.51</td>\n",
              "      <td>34.00</td>\n",
              "      <td>111.23</td>\n",
              "      <td>302.11</td>\n",
              "      <td>138.56</td>\n",
              "      <td>72.560</td>\n",
              "      <td>41.85</td>\n",
              "      <td>77.44</td>\n",
              "      <td>35.03</td>\n",
              "      <td>21.19</td>\n",
              "      <td>38.51</td>\n",
              "      <td>142.11</td>\n",
              "      <td>80.33</td>\n",
              "      <td>34.210</td>\n",
              "      <td>3.88</td>\n",
              "    </tr>\n",
              "    <tr>\n",
              "      <th>2023-03-09</th>\n",
              "      <td>153.559</td>\n",
              "      <td>93.680</td>\n",
              "      <td>186.35</td>\n",
              "      <td>180.2500</td>\n",
              "      <td>94.050</td>\n",
              "      <td>61.25</td>\n",
              "      <td>34.38</td>\n",
              "      <td>110.87</td>\n",
              "      <td>305.73</td>\n",
              "      <td>138.83</td>\n",
              "      <td>73.380</td>\n",
              "      <td>42.02</td>\n",
              "      <td>76.74</td>\n",
              "      <td>33.50</td>\n",
              "      <td>20.94</td>\n",
              "      <td>38.06</td>\n",
              "      <td>141.90</td>\n",
              "      <td>79.97</td>\n",
              "      <td>34.495</td>\n",
              "      <td>3.76</td>\n",
              "    </tr>\n",
              "    <tr>\n",
              "      <th>2023-03-10</th>\n",
              "      <td>150.210</td>\n",
              "      <td>92.670</td>\n",
              "      <td>181.01</td>\n",
              "      <td>175.1300</td>\n",
              "      <td>92.170</td>\n",
              "      <td>61.25</td>\n",
              "      <td>33.82</td>\n",
              "      <td>109.56</td>\n",
              "      <td>302.88</td>\n",
              "      <td>137.02</td>\n",
              "      <td>71.630</td>\n",
              "      <td>41.02</td>\n",
              "      <td>75.03</td>\n",
              "      <td>32.07</td>\n",
              "      <td>20.27</td>\n",
              "      <td>36.00</td>\n",
              "      <td>140.22</td>\n",
              "      <td>77.01</td>\n",
              "      <td>33.370</td>\n",
              "      <td>3.66</td>\n",
              "    </tr>\n",
              "  </tbody>\n",
              "</table>\n",
              "<p>413 rows × 20 columns</p>\n",
              "</div>\n",
              "      <button class=\"colab-df-convert\" onclick=\"convertToInteractive('df-e8058a01-45ba-49b1-95df-9d376aa0df13')\"\n",
              "              title=\"Convert this dataframe to an interactive table.\"\n",
              "              style=\"display:none;\">\n",
              "        \n",
              "  <svg xmlns=\"http://www.w3.org/2000/svg\" height=\"24px\"viewBox=\"0 0 24 24\"\n",
              "       width=\"24px\">\n",
              "    <path d=\"M0 0h24v24H0V0z\" fill=\"none\"/>\n",
              "    <path d=\"M18.56 5.44l.94 2.06.94-2.06 2.06-.94-2.06-.94-.94-2.06-.94 2.06-2.06.94zm-11 1L8.5 8.5l.94-2.06 2.06-.94-2.06-.94L8.5 2.5l-.94 2.06-2.06.94zm10 10l.94 2.06.94-2.06 2.06-.94-2.06-.94-.94-2.06-.94 2.06-2.06.94z\"/><path d=\"M17.41 7.96l-1.37-1.37c-.4-.4-.92-.59-1.43-.59-.52 0-1.04.2-1.43.59L10.3 9.45l-7.72 7.72c-.78.78-.78 2.05 0 2.83L4 21.41c.39.39.9.59 1.41.59.51 0 1.02-.2 1.41-.59l7.78-7.78 2.81-2.81c.8-.78.8-2.07 0-2.86zM5.41 20L4 18.59l7.72-7.72 1.47 1.35L5.41 20z\"/>\n",
              "  </svg>\n",
              "      </button>\n",
              "      \n",
              "  <style>\n",
              "    .colab-df-container {\n",
              "      display:flex;\n",
              "      flex-wrap:wrap;\n",
              "      gap: 12px;\n",
              "    }\n",
              "\n",
              "    .colab-df-convert {\n",
              "      background-color: #E8F0FE;\n",
              "      border: none;\n",
              "      border-radius: 50%;\n",
              "      cursor: pointer;\n",
              "      display: none;\n",
              "      fill: #1967D2;\n",
              "      height: 32px;\n",
              "      padding: 0 0 0 0;\n",
              "      width: 32px;\n",
              "    }\n",
              "\n",
              "    .colab-df-convert:hover {\n",
              "      background-color: #E2EBFA;\n",
              "      box-shadow: 0px 1px 2px rgba(60, 64, 67, 0.3), 0px 1px 3px 1px rgba(60, 64, 67, 0.15);\n",
              "      fill: #174EA6;\n",
              "    }\n",
              "\n",
              "    [theme=dark] .colab-df-convert {\n",
              "      background-color: #3B4455;\n",
              "      fill: #D2E3FC;\n",
              "    }\n",
              "\n",
              "    [theme=dark] .colab-df-convert:hover {\n",
              "      background-color: #434B5C;\n",
              "      box-shadow: 0px 1px 3px 1px rgba(0, 0, 0, 0.15);\n",
              "      filter: drop-shadow(0px 1px 2px rgba(0, 0, 0, 0.3));\n",
              "      fill: #FFFFFF;\n",
              "    }\n",
              "  </style>\n",
              "\n",
              "      <script>\n",
              "        const buttonEl =\n",
              "          document.querySelector('#df-e8058a01-45ba-49b1-95df-9d376aa0df13 button.colab-df-convert');\n",
              "        buttonEl.style.display =\n",
              "          google.colab.kernel.accessAllowed ? 'block' : 'none';\n",
              "\n",
              "        async function convertToInteractive(key) {\n",
              "          const element = document.querySelector('#df-e8058a01-45ba-49b1-95df-9d376aa0df13');\n",
              "          const dataTable =\n",
              "            await google.colab.kernel.invokeFunction('convertToInteractive',\n",
              "                                                     [key], {});\n",
              "          if (!dataTable) return;\n",
              "\n",
              "          const docLinkHtml = 'Like what you see? Visit the ' +\n",
              "            '<a target=\"_blank\" href=https://colab.research.google.com/notebooks/data_table.ipynb>data table notebook</a>'\n",
              "            + ' to learn more about interactive tables.';\n",
              "          element.innerHTML = '';\n",
              "          dataTable['output_type'] = 'display_data';\n",
              "          await google.colab.output.renderOutput(dataTable, element);\n",
              "          const docLink = document.createElement('div');\n",
              "          docLink.innerHTML = docLinkHtml;\n",
              "          element.appendChild(docLink);\n",
              "        }\n",
              "      </script>\n",
              "    </div>\n",
              "  </div>\n",
              "  "
            ]
          },
          "metadata": {},
          "execution_count": 57
        }
      ]
    },
    {
      "cell_type": "markdown",
      "source": [
        "#Clustering Companies\n",
        "\n",
        "The objective is to cluster these companies based on the correlation and check the validity of these clusters. As an example, Apple, Amazon, Google, and Facebook are often viewed as tech stocks while Suncor and Exxon are viewed as oil and gas stock. We'll check whether we can get these classifications, only using the correlation among the stock prices of these companies.\n",
        "\n",
        "##Optimum Number of Clusters\n",
        "\n",
        "Finding the number of clusters is a problem of its own. There are methods such as elbow method that can be used to find the optimum number of clusters. However, for this work lets try to cluster these companies in to 4 clusters. Ideally, those four clusters have to be tech stocks, oil and gas stocks, retails stocks, and other stocks.\n",
        "\n",
        "First, let's obtain the correlation matrix for our data."
      ],
      "metadata": {
        "id": "pJgUzWkhgoU4"
      }
    },
    {
      "cell_type": "code",
      "source": [
        "correlation_mat=df_combined.corr()"
      ],
      "metadata": {
        "id": "tN6Tbf1Y8OTa"
      },
      "execution_count": 58,
      "outputs": []
    },
    {
      "cell_type": "markdown",
      "source": [
        "Also let's write a utility function to print the names of the companies and the cluster they belong to."
      ],
      "metadata": {
        "id": "gYcbaGOSam-U"
      }
    },
    {
      "cell_type": "code",
      "source": [
        "# Utility function to print the name of companies with their assigned cluster\n",
        "def print_clusters(df_combined,cluster_labels):\n",
        "  cluster_dict = {}\n",
        "  for i, label in enumerate(cluster_labels):\n",
        "      if label not in cluster_dict:\n",
        "          cluster_dict[label] = []\n",
        "      cluster_dict[label].append(df_combined.columns[i])\n",
        "\n",
        "  # Print out the companies in each cluster\n",
        "  for cluster, companies in cluster_dict.items():\n",
        "      print(f\"Cluster {cluster}: {', '.join(companies)}\")\n",
        "\n",
        "  # Create a matrix where each row represents a cluster and each column represents a company\n",
        "  cluster_matrix = np.zeros((n_clusters, len(df_combined.columns)))\n",
        "  for i in range(n_clusters):\n",
        "      for j, company in enumerate(df_combined.columns):\n",
        "          if company in cluster_dict[i]:\n",
        "              cluster_matrix[i, j] = 1\n",
        "\n",
        "  # Create a heatmap to display the clustered companies\n",
        "  sns.set()\n",
        "  ax = sns.heatmap(cluster_matrix, cmap='Blues')\n",
        "  ax.set_xticklabels(df_combined.columns, rotation=90)\n",
        "  plt.show()\n",
        "\n",
        "cluster_results={}"
      ],
      "metadata": {
        "id": "jhv5q9jOat2o"
      },
      "execution_count": 77,
      "outputs": []
    },
    {
      "cell_type": "markdown",
      "source": [
        "#Method 1: K-means clustering\n",
        "\n",
        "K-means clustering is a popular unsupervised machine learning algorithm used to group similar data points together based on their feature similarity. The algorithm iteratively assigns each data point to the nearest cluster centroid and then updates the centroid based on the newly assigned data points until convergence. We can use this algorithm to cluster our data based on the correlation matrix."
      ],
      "metadata": {
        "id": "LK5ywcLK_zm8"
      }
    },
    {
      "cell_type": "code",
      "source": [
        "from sklearn.cluster import KMeans\n",
        "n_clusters=4\n",
        "# Perform k-means clustering with four clusters\n",
        "clustering = KMeans(n_clusters=n_clusters, random_state=0).fit(correlation_mat)\n",
        "\n",
        "# Print the cluster labels\n",
        "cluster_labels=clustering.labels_\n",
        "\n",
        "print_clusters(df_combined,cluster_labels)\n",
        "cluster_results['K-means']=cluster_labels"
      ],
      "metadata": {
        "colab": {
          "base_uri": "https://localhost:8080/",
          "height": 487
        },
        "id": "KMTqa-TW_zEq",
        "outputId": "884ab646-0c95-4d47-be24-c6feafddf241"
      },
      "execution_count": 78,
      "outputs": [
        {
          "output_type": "stream",
          "name": "stderr",
          "text": [
            "/usr/local/lib/python3.9/dist-packages/sklearn/cluster/_kmeans.py:870: FutureWarning: The default value of `n_init` will change from 10 to 'auto' in 1.4. Set the value of `n_init` explicitly to suppress the warning\n",
            "  warnings.warn(\n"
          ]
        },
        {
          "output_type": "stream",
          "name": "stdout",
          "text": [
            "Cluster 2: Apple, Walmart, MACYs\n",
            "Cluster 0: Amazon, Facebook, Tesla, Alphabet (Google), Lululemon, Carters, Childrens Place, Victorias Secret, Wayfair, Walgreen, Curaleaf\n",
            "Cluster 1: Shell, Suncor Energy, Exxon Mobil Corp, Dollar Tree\n",
            "Cluster 3: TJX Companies, CVS Caremark\n"
          ]
        },
        {
          "output_type": "display_data",
          "data": {
            "text/plain": [
              "<Figure size 432x288 with 2 Axes>"
            ],
            "image/png": "[encoded data removed]"
          },
          "metadata": {}
        }
      ]
    },
    {
      "cell_type": "markdown",
      "source": [
        "# Method 2: Agglomerative Clustering\n",
        "\n",
        "Agglomerative Clustering is a hierarchical clustering algorithm that iteratively merges similar clusters to form larger clusters. The algorithm starts with each object in a separate cluster and then combines the two most similar clusters at each step. "
      ],
      "metadata": {
        "id": "NUQouvqRZAIN"
      }
    },
    {
      "cell_type": "code",
      "source": [
        "from sklearn.cluster import AgglomerativeClustering\n",
        "\n",
        "# Perform hierarchical clustering with four clusters\n",
        "clustering = AgglomerativeClustering(n_clusters=n_clusters, affinity='precomputed', linkage='complete').fit(correlation_mat)\n",
        "\n",
        "# Display the cluster labels\n",
        "print_clusters(df_combined,clustering.labels_)\n",
        "cluster_results['Agglomerative']=clustering.labels_"
      ],
      "metadata": {
        "colab": {
          "base_uri": "https://localhost:8080/",
          "height": 487
        },
        "id": "_ikAuzQZZKIW",
        "outputId": "8d651e9b-ed1d-49af-b137-d4beac8dee89"
      },
      "execution_count": 118,
      "outputs": [
        {
          "output_type": "stream",
          "name": "stderr",
          "text": [
            "/usr/local/lib/python3.9/dist-packages/sklearn/cluster/_agglomerative.py:983: FutureWarning: Attribute `affinity` was deprecated in version 1.2 and will be removed in 1.4. Use `metric` instead\n",
            "  warnings.warn(\n"
          ]
        },
        {
          "output_type": "stream",
          "name": "stdout",
          "text": [
            "Cluster 2: Apple, Alphabet (Google), Shell, Walmart, Carters, MACYs, Curaleaf\n",
            "Cluster 0: Amazon, Childrens Place, Dollar Tree\n",
            "Cluster 3: Facebook, Tesla, Exxon Mobil Corp, Lululemon, TJX Companies, Victorias Secret, CVS Caremark\n",
            "Cluster 1: Suncor Energy, Wayfair, Walgreen\n"
          ]
        },
        {
          "output_type": "display_data",
          "data": {
            "text/plain": [
              "<Figure size 432x288 with 2 Axes>"
            ],
            "image/png": "[encoded data removed]"
          },
          "metadata": {}
        }
      ]
    },
    {
      "cell_type": "markdown",
      "source": [
        "These results are slightly different than the results we obtained from k-means clustering. We can see some oil and gas companies has been placed in different clusters.\n",
        "\n",
        "#Method 3: Affinity Propagation\n",
        "\n",
        "Affinity Propagation clustering is a type of clustering algorithm that does not require the number of clusters to be specified in advance. It works by sending messages between pairs of data points, allowing the data points to automatically determine the number of clusters and the optimal clustering assignment. Affinity Propagation clustering can be effective in identifying complex patterns in data, but can also be computationally expensive for large datasets."
      ],
      "metadata": {
        "id": "reBAbT6kcBjs"
      }
    },
    {
      "cell_type": "code",
      "source": [
        "from sklearn.cluster import AffinityPropagation\n",
        "\n",
        "# Load the correlation matrix (assuming it's stored in the variable correlation_mat)\n",
        "# ...\n",
        "\n",
        "# Perform affinity propagation clustering with default parameters\n",
        "clustering = AffinityPropagation(affinity='precomputed').fit(correlation_mat)\n",
        "\n",
        "# Print the cluster labels\n",
        "print_clusters(df_combined,clustering.labels_)\n",
        "cluster_results['Affinity']=clustering.labels_"
      ],
      "metadata": {
        "colab": {
          "base_uri": "https://localhost:8080/",
          "height": 432
        },
        "id": "UKwFtuEbkWmk",
        "outputId": "a7cdfd22-def1-4976-bdaa-56641562a9ed"
      },
      "execution_count": 119,
      "outputs": [
        {
          "output_type": "stream",
          "name": "stdout",
          "text": [
            "Cluster 3: Apple, CVS Caremark\n",
            "Cluster 1: Amazon, Facebook, Tesla, Alphabet (Google), Lululemon, Carters, Childrens Place, Victorias Secret, MACYs, Wayfair, Walgreen, Curaleaf\n",
            "Cluster 0: Shell, Suncor Energy, Exxon Mobil Corp, Dollar Tree\n",
            "Cluster 2: Walmart, TJX Companies\n"
          ]
        },
        {
          "output_type": "display_data",
          "data": {
            "text/plain": [
              "<Figure size 432x288 with 2 Axes>"
            ],
            "image/png": "[encoded data removed]"
          },
          "metadata": {}
        }
      ]
    },
    {
      "cell_type": "markdown",
      "source": [
        "It's interesting to see that this method found that four clusters are the optimum number of clusters for our data. Additionally, we can observe that oil and gas companies are clustered together, and some tech companies are clustered together as well."
      ],
      "metadata": {
        "id": "_SLRIS3ulaRY"
      }
    },
    {
      "cell_type": "markdown",
      "source": [
        "#Method 4: Spectral Clustering\n",
        "\n",
        "Spectral clustering is a powerful technique for clustering data that does not have a natural Euclidean structure. It works by projecting the data onto a lower-dimensional space using the eigenvalues and eigenvectors of a similarity matrix. Spectral clustering can be particularly effective for data with complex or nonlinear relationships between features"
      ],
      "metadata": {
        "id": "g0-TCBNPke7B"
      }
    },
    {
      "cell_type": "code",
      "source": [
        "from sklearn.cluster import SpectralClustering\n",
        "\n",
        "# Add a small positive constant value to the diagonal of the matrix\n",
        "correlation_mat_pro = correlation_mat#+ 0.001 * np.eye(correlation_mat.shape[0])\n",
        "print(np.linalg.eigvals(correlation_mat_pro))\n",
        "print(np.linalg.eigvals(correlation_mat))\n",
        "# Perform spectral clustering with two clusters\n",
        "clustering = SpectralClustering(n_clusters=n_clusters, affinity='nearest_neighbors',eigen_solver='arpack', assign_labels='kmeans').fit(correlation_mat_pro)\n",
        "\n",
        "# Display the cluster labels\n",
        "print_clusters(df_combined,clustering.labels_)"
      ],
      "metadata": {
        "colab": {
          "base_uri": "https://localhost:8080/",
          "height": 661
        },
        "id": "xB7fdBB8mvWY",
        "outputId": "0838db2b-a70e-4cde-beda-306863feff7d"
      },
      "execution_count": 120,
      "outputs": [
        {
          "output_type": "stream",
          "name": "stdout",
          "text": [
            "[1.21558593e+01 2.90665666e+00 1.99926885e+00 7.80575031e-01\n",
            " 5.17496584e-01 4.79032798e-01 2.88888935e-01 2.18281799e-01\n",
            " 1.54816217e-01 1.27577685e-01 8.69175926e-02 7.33880375e-02\n",
            " 5.32140446e-02 4.57870657e-02 5.11838134e-03 1.12887997e-02\n",
            " 1.82682751e-02 1.97975915e-02 2.97281044e-02 2.80382430e-02]\n",
            "[1.21558593e+01 2.90665666e+00 1.99926885e+00 7.80575031e-01\n",
            " 5.17496584e-01 4.79032798e-01 2.88888935e-01 2.18281799e-01\n",
            " 1.54816217e-01 1.27577685e-01 8.69175926e-02 7.33880375e-02\n",
            " 5.32140446e-02 4.57870657e-02 5.11838134e-03 1.12887997e-02\n",
            " 1.82682751e-02 1.97975915e-02 2.97281044e-02 2.80382430e-02]\n",
            "Cluster 2: Apple, Tesla, Walmart, MACYs\n",
            "Cluster 0: Amazon, Facebook, Alphabet (Google), Carters, Childrens Place, Victorias Secret, Wayfair, Walgreen, Curaleaf\n",
            "Cluster 1: Shell, Suncor Energy, Exxon Mobil Corp, Dollar Tree, CVS Caremark\n",
            "Cluster 3: Lululemon, TJX Companies\n"
          ]
        },
        {
          "output_type": "stream",
          "name": "stderr",
          "text": [
            "/usr/local/lib/python3.9/dist-packages/sklearn/cluster/_spectral.py:717: UserWarning: The spectral clustering API has changed. ``fit``now constructs an affinity matrix from data. To use a custom affinity matrix, set ``affinity=precomputed``.\n",
            "  warnings.warn(\n"
          ]
        },
        {
          "output_type": "display_data",
          "data": {
            "text/plain": [
              "<Figure size 432x288 with 2 Axes>"
            ],
            "image/png": "[encoded data removed]"
          },
          "metadata": {}
        }
      ]
    },
    {
      "cell_type": "markdown",
      "source": [
        "#Method 5: DBSCAN clustering\n",
        "\n",
        "DBSCAN is a density-based clustering algorithm that groups together points that are closely packed together. It does not require specifying the number of clusters beforehand, and can identify clusters of arbitrary shapes. The algorithm is robust to outliers and noise in the data, and can automatically label them as noise points."
      ],
      "metadata": {
        "id": "sRhsVl49mwEl"
      }
    },
    {
      "cell_type": "code",
      "source": [
        "from sklearn.cluster import DBSCAN\n",
        "\n",
        "# Removing negative values in correlation matrix\n",
        "correlation_mat_pro = 1 + correlation_mat\n",
        "\n",
        "# Perform DBSCAN clustering with eps=0.5 and min_samples=5\n",
        "clustering = DBSCAN(eps=0.5, min_samples=5, metric='precomputed').fit(correlation_mat_pro)\n",
        "\n",
        "# Print the cluster labels\n",
        "print_clusters(df_combined,clustering.labels_)\n",
        "cluster_results['DBSCAN']=clustering.labels_"
      ],
      "metadata": {
        "colab": {
          "base_uri": "https://localhost:8080/",
          "height": 450
        },
        "id": "lQFTDddmkHtI",
        "outputId": "a643385f-37f2-42b3-db74-d12a3199ff7f"
      },
      "execution_count": 121,
      "outputs": [
        {
          "output_type": "stream",
          "name": "stdout",
          "text": [
            "Cluster -1: Apple, Walmart, TJX Companies, MACYs, CVS Caremark\n",
            "Cluster 0: Amazon, Facebook, Alphabet (Google), Shell, Lululemon, Carters, Childrens Place, Victorias Secret, Wayfair, Walgreen, Curaleaf\n",
            "Cluster 2: Tesla, Exxon Mobil Corp\n",
            "Cluster 1: Suncor Energy\n",
            "Cluster 3: Dollar Tree\n"
          ]
        },
        {
          "output_type": "display_data",
          "data": {
            "text/plain": [
              "<Figure size 432x288 with 2 Axes>"
            ],
            "image/png": "[encoded data removed]"
          },
          "metadata": {}
        }
      ]
    },
    {
      "cell_type": "markdown",
      "source": [
        "#Visualization\n",
        "\n",
        "It may be useful to look at the results of the above four clustering methods simultaneously to get an idea about their performance. The simplest method to look at the clusters would be a heatmap where companies are on the x axis and the clusters are on the y axis. Lets plot all these heatmaps near each other."
      ],
      "metadata": {
        "id": "GnuylCh3IWaz"
      }
    },
    {
      "cell_type": "code",
      "source": [
        "cluster_results"
      ],
      "metadata": {
        "colab": {
          "base_uri": "https://localhost:8080/"
        },
        "id": "mogq3BH9GJEW",
        "outputId": "b027ab19-148a-49c8-d2b1-6276eb97533d"
      },
      "execution_count": 122,
      "outputs": [
        {
          "output_type": "execute_result",
          "data": {
            "text/plain": [
              "{'K-means': array([2, 0, 0, 0, 0, 1, 1, 1, 0, 2, 0, 0, 3, 0, 2, 0, 1, 3, 0, 0],\n",
              "       dtype=int32),\n",
              " 'Agglomerative': array([2, 0, 3, 3, 2, 2, 1, 3, 3, 2, 2, 0, 3, 3, 2, 1, 0, 3, 1, 2]),\n",
              " 'Affinity': array([3, 1, 1, 1, 1, 0, 0, 0, 1, 2, 1, 1, 2, 1, 1, 1, 0, 3, 1, 1]),\n",
              " 'DBSCAN': array([-1,  0,  0,  2,  0,  0,  1,  2,  0, -1,  0,  0, -1,  0, -1,  0,  3,\n",
              "        -1,  0,  0])}"
            ]
          },
          "metadata": {},
          "execution_count": 122
        }
      ]
    },
    {
      "cell_type": "code",
      "source": [
        "\n",
        "def plot_cluster_heatmaps(cluster_results, companies):\n",
        "    \"\"\"\n",
        "    Plots the heatmaps of clustering for all companies for different methods side by side.\n",
        "\n",
        "    Args:\n",
        "    - cluster_results: a dictionary of cluster labels for each clustering method\n",
        "    - companies: a list of company names\n",
        "    \"\"\"\n",
        "    # Extract the keys and values from the dictionary\n",
        "    methods = list(cluster_results.keys())\n",
        "    labels = list(cluster_results.values())\n",
        "\n",
        "    # Define the heatmap data for each method\n",
        "    heatmaps = []\n",
        "    for i in range(len(methods)):\n",
        "        heatmap = np.zeros((len(np.unique(labels[i])), len(companies)))\n",
        "        for j in range(len(companies)):\n",
        "            heatmap[labels[i][j], j] = 1\n",
        "        heatmaps.append(heatmap)\n",
        "\n",
        "    # Plot the heatmaps side by side\n",
        "    fig, axs = plt.subplots(nrows=1, ncols=len(methods), figsize=(8*len(methods), 8))\n",
        "\n",
        "    for i in range(len(methods)):\n",
        "        sns.heatmap(heatmaps[i], cmap=\"Blues\", annot=True, fmt=\"g\", xticklabels=companies, ax=axs[i])\n",
        "        axs[i].set_title(methods[i])\n",
        "\n",
        "    plt.tight_layout()\n",
        "    plt.show()"
      ],
      "metadata": {
        "id": "Ia_SAjTooTMc"
      },
      "execution_count": 123,
      "outputs": []
    },
    {
      "cell_type": "code",
      "source": [
        "companies=df_combined.columns\n",
        "plot_cluster_heatmaps(cluster_results, companies)"
      ],
      "metadata": {
        "colab": {
          "base_uri": "https://localhost:8080/",
          "height": 335
        },
        "id": "XDz4Qm44LJgd",
        "outputId": "842d540a-1efa-4ccf-8959-9ae18cfc2c41"
      },
      "execution_count": 124,
      "outputs": [
        {
          "output_type": "display_data",
          "data": {
            "text/plain": [
              "<Figure size 2304x576 with 8 Axes>"
            ],
            "image/png": "[encoded data removed]"
          },
          "metadata": {}
        }
      ]
    },
    {
      "cell_type": "markdown",
      "source": [
        "However, the above visualization is not very helpful when trying to compare the results of multiple clustering algorithms. Let's try to use a Venn diagram used visualization method to see the relationship."
      ],
      "metadata": {
        "id": "tsqrILgvOx9b"
      }
    },
    {
      "cell_type": "markdown",
      "source": [
        "#Conclusion\n",
        "\n",
        "In this article, the author explores four different ways to cluster 20 companies based on correlation among their stock prices. The objective is to cluster these companies in a way that reflects their behavior rather than their stock price. We tried K-means clustering, Agglomerative clustering, Affinity Propagation clustering, and DBSCAN clustering methods, each with its own advantages and disadvantages. The results show that all four methods could cluster companies in a way that matches their industry or sector, and some methods are more computationally expensive than others. The correlation-based clustering method provides a useful alternative to the stock price-based clustering method, as it allows us to cluster companies based on their behavior rather than their stock price.\n"
      ],
      "metadata": {
        "id": "4QQgS31zgrTu"
      }
    }
  ]
}